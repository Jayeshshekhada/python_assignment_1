{
  "nbformat": 4,
  "nbformat_minor": 0,
  "metadata": {
    "colab": {
      "name": "python assignment 4.ipynb",
      "provenance": [],
      "collapsed_sections": []
    },
    "kernelspec": {
      "name": "python3",
      "display_name": "Python 3"
    },
    "language_info": {
      "name": "python"
    }
  },
  "cells": [
    {
      "cell_type": "markdown",
      "metadata": {
        "id": "ZFsm1QdMO1fm"
      },
      "source": [
        "1.1 Write a Python Program(with class concepts) to find the area of the triangle using the below\n",
        "formula.\n",
        "area = (s*(s-a)*(s-b)*(s-c)) ** 0.5\n",
        "Function to take the length of the sides of triangle from user should be defined in the parent\n",
        "class and function to calculate the area should be defined in subclass."
      ]
    },
    {
      "cell_type": "code",
      "metadata": {
        "id": "7Z0roYVaO2j2",
        "colab": {
          "base_uri": "https://localhost:8080/"
        },
        "outputId": "7cbae78f-3f02-4623-b4ea-d15f8345eea2"
      },
      "source": [
        "class triangle_sides:\n",
        "  def __init__(self):\n",
        "    \"\"\"function to take triangle side length from user\"\"\"\n",
        "    self.x = float(input(\"Enter the length of side a :\"))\n",
        "    self.y = float(input(\"Enter the length of side b :\"))\n",
        "    self.z = float(input(\"Enter the length of side c :\"))\n",
        "  def __str__(self):\n",
        "    return \"this is a function to find out area of a triangle\"\n",
        "\n",
        "\n",
        "class triangle_area(triangle_sides):\n",
        "  def __init__(self):\n",
        "    super(triangle_area,self).__init__()\n",
        "  def area(self):\n",
        "    \"\"\"This is a function to calculate area of triangle based on user input\"\"\"\n",
        "    self.s = (self.x+self.y+self.z)/2\n",
        "    A = ((self.s*(self.s-self.x)*(self.s-self.y)*(self.s-self.z))**(0.5))\n",
        "    if (self.x+self.y) <= self.z:\n",
        "      print(\"Tringle is not possible based on input parameter\")\n",
        "    else:\n",
        "      return ('Area of the triangle is :',A)\n",
        " \n",
        "\n",
        "p = triangle_area()\n",
        "p.area()"
      ],
      "execution_count": 47,
      "outputs": [
        {
          "output_type": "stream",
          "text": [
            "Enter the length of side a :24\n",
            "Enter the length of side b :24\n",
            "Enter the length of side c :47\n"
          ],
          "name": "stdout"
        },
        {
          "output_type": "execute_result",
          "data": {
            "text/plain": [
              "('Area of the triangle is :', 114.52483355150532)"
            ]
          },
          "metadata": {
            "tags": []
          },
          "execution_count": 47
        }
      ]
    },
    {
      "cell_type": "markdown",
      "metadata": {
        "id": "YuvnoZKtO9kw"
      },
      "source": [
        "351.2 Write a function filter_long_words() that takes a list of words and an integer n and returns\n",
        "the list of words that are longer than n.3"
      ]
    },
    {
      "cell_type": "code",
      "metadata": {
        "id": "r-8jxot3PAJz",
        "colab": {
          "base_uri": "https://localhost:8080/"
        },
        "outputId": "0e768e8c-29d3-4839-c4f4-0f85fbdbc39a"
      },
      "source": [
        "def filter_long_words(l,n):\n",
        "  \"\"\"This ia a function to filter out words longer than specific length\"\"\"\n",
        "  l1=[]\n",
        "  for x in l:\n",
        "    if len(x)>n:\n",
        "      l1.append(x)\n",
        "    else:\n",
        "      pass\n",
        "  return l1\n",
        "\n",
        "l=[\"jayesh\",\"shekhada\",\"pratham\",\"rashmi\",\"pihu\",\"jay\",\"nij\"]\n",
        "filter_long_words(l,3)\n",
        "\n",
        "\n"
      ],
      "execution_count": null,
      "outputs": [
        {
          "output_type": "execute_result",
          "data": {
            "text/plain": [
              "['jayesh', 'shekhada', 'pratham', 'rashmi', 'pihu']"
            ]
          },
          "metadata": {
            "tags": []
          },
          "execution_count": 10
        }
      ]
    },
    {
      "cell_type": "markdown",
      "metadata": {
        "id": "6wr_na92PDGz"
      },
      "source": [
        "2.1 Write a Python program using function concept that maps list of words into a list of integers\n",
        "representing the lengths of the corresponding words.\n",
        "Hint: If a list [ ab,cde,erty] is passed on to the python function output should come as [2,3,4]\n",
        "Here 2,3 and 4 are the lengths of the words in the list."
      ]
    },
    {
      "cell_type": "code",
      "metadata": {
        "id": "UAmcY-ddPDtC",
        "colab": {
          "base_uri": "https://localhost:8080/"
        },
        "outputId": "04ceac4e-35fe-473a-d4ba-4d9f5322c90b"
      },
      "source": [
        "def length_finder(list):\n",
        "\"\"\"This is a function which returns a list of lenth of all given candidates as an input\"\"\"\n",
        "  l2=[]\n",
        "  for x in list:\n",
        "    l2.append(len(x))\n",
        "  return l2\n",
        "\n",
        "length_finder(l)"
      ],
      "execution_count": null,
      "outputs": [
        {
          "output_type": "execute_result",
          "data": {
            "text/plain": [
              "[6, 8, 7, 6, 4, 3, 3]"
            ]
          },
          "metadata": {
            "tags": []
          },
          "execution_count": 9
        }
      ]
    },
    {
      "cell_type": "markdown",
      "metadata": {
        "id": "I9pIH4lQPEch"
      },
      "source": [
        "2.2 Write a Python function which takes a character (i.e. a string of length 1) and returns True if\n",
        "it is a vowel, False otherwise."
      ]
    },
    {
      "cell_type": "code",
      "metadata": {
        "id": "HpXm-ZW1PGyJ",
        "colab": {
          "base_uri": "https://localhost:8080/"
        },
        "outputId": "2d350686-dbf0-4aa8-bf53-c9f629612a83"
      },
      "source": [
        "def vowel_finder(a):\n",
        "  \"\"\"This function will return True if given character is vowel\"\"\"\n",
        "  if len(a)>1:\n",
        "    a = input(\"You need to enter only single character to check:\")\n",
        "    vowel_finder(a)\n",
        "  else:\n",
        "      if a in \"aeiouAEIOU\":\n",
        "        print(\"entered character is vowel\")\n",
        "      else:\n",
        "        print(\"entered character is not a vowel\")\n",
        "\n",
        "\n",
        "a = input(\"Enter any single character to check weather it is vowels or not:\")\n",
        "vowel_finder(a)"
      ],
      "execution_count": null,
      "outputs": [
        {
          "output_type": "stream",
          "text": [
            "Enter any single character to check weather it is voWels or not:2\n",
            "entered character is not a vowel\n"
          ],
          "name": "stdout"
        }
      ]
    }
  ]
}