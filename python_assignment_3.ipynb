{
  "nbformat": 4,
  "nbformat_minor": 0,
  "metadata": {
    "colab": {
      "name": "python assignment 3.ipynb",
      "provenance": [],
      "collapsed_sections": []
    },
    "kernelspec": {
      "name": "python3",
      "display_name": "Python 3"
    },
    "language_info": {
      "name": "python"
    }
  },
  "cells": [
    {
      "cell_type": "markdown",
      "metadata": {
        "id": "Nf5l4Rtx4aYs"
      },
      "source": [
        "1.1 Write a Python Program to implement your own myreduce() function which works exactly\n",
        "like Python's built-in function reduce()"
      ]
    },
    {
      "cell_type": "code",
      "metadata": {
        "colab": {
          "base_uri": "https://localhost:8080/",
          "height": 35
        },
        "id": "PpKgaYsp8dhv",
        "outputId": "936efad1-96d3-499c-9c0c-5210afffc84a"
      },
      "source": [
        "l=[1,2,3,4,5,\"jayesh\",\"shekhada\"]\n",
        "def myreduce(fun,l):\n",
        "  \"\"\"This function will work ecxatly same as in-built Python function reduce()\"\"\"\n",
        "  c=fun(l[0],l[1])\n",
        "  for i in range(2,len(l)):\n",
        "    c=fun(c,l[i])\n",
        "  return c\n",
        "(myreduce(lambda a,b:str(a)+str(b), l))"
      ],
      "execution_count": 1,
      "outputs": [
        {
          "output_type": "execute_result",
          "data": {
            "application/vnd.google.colaboratory.intrinsic+json": {
              "type": "string"
            },
            "text/plain": [
              "'12345jayeshshekhada'"
            ]
          },
          "metadata": {
            "tags": []
          },
          "execution_count": 1
        }
      ]
    },
    {
      "cell_type": "markdown",
      "metadata": {
        "id": "LJI-P0gFD4du"
      },
      "source": [
        "1.2 Write a Python program to implement your own myfilter() function which works exactly\n",
        "like Python's built-in function filter()"
      ]
    },
    {
      "cell_type": "code",
      "metadata": {
        "colab": {
          "base_uri": "https://localhost:8080/"
        },
        "id": "BXA8Lr_6D64h",
        "outputId": "76aabe75-e759-4d88-8a47-b5904ce49da6"
      },
      "source": [
        "l=[1,2,3,4,5,\"jayesh\",\"shekhada\"]\n",
        "def myfilter(filter_condtn,l):\n",
        "  \"\"\"This function works exactly like Python's built-in function filter()\"\"\"\n",
        "  for i in l:\n",
        "    if filter_condtn(i):\n",
        "      return filter_condtn(i)\n",
        "\n",
        "print(myfilter(lambda a: a if type(a)==str and a[0]==\"s\" else False, l))\n",
        "list(filter(lambda a: a if type(a)==str and a[0]==\"s\" else False, l))"
      ],
      "execution_count": 3,
      "outputs": [
        {
          "output_type": "stream",
          "text": [
            "shekhada\n"
          ],
          "name": "stdout"
        },
        {
          "output_type": "execute_result",
          "data": {
            "text/plain": [
              "['shekhada']"
            ]
          },
          "metadata": {
            "tags": []
          },
          "execution_count": 3
        }
      ]
    },
    {
      "cell_type": "markdown",
      "metadata": {
        "id": "69pvbLoRKDKA"
      },
      "source": [
        "2. Implement List comprehensions to produce the following lists.\n",
        "Write List comprehensions to produce the following Lists\n",
        "['A', 'C', 'A', 'D', 'G', 'I', ’L’, ‘ D’]\n",
        "['x', 'xx', 'xxx', 'xxxx', 'y', 'yy', 'yyy', 'yyyy', 'z', 'zz', 'zzz', 'zzzz']\n",
        "['x', 'y', 'z', 'xx', 'yy', 'zz', 'xxx', 'yyy', 'zzz', 'xxxx', 'yyyy', 'zzzz']\n",
        "[[2], [3], [4], [3], [4], [5], [4], [5], [6]] [[2, 3, 4, 5], [3, 4, 5, 6],\n",
        "[4, 5, 6, 7], [5, 6, 7, 8]]\n",
        "[(1, 1), (2, 1), (3, 1), (1, 2), (2, 2), (3, 2), (1, 3), (2, 3), (3, 3)]"
      ]
    },
    {
      "cell_type": "markdown",
      "metadata": {
        "id": "KfDYV7RoHt3l"
      },
      "source": [
        "['A', 'C', 'A', 'D', 'G', 'I', 'L', 'D']"
      ]
    },
    {
      "cell_type": "code",
      "metadata": {
        "colab": {
          "base_uri": "https://localhost:8080/"
        },
        "id": "ZGmd4SwBykNy",
        "outputId": "979635b2-e8a2-44fc-d5f1-ca18f20e447f"
      },
      "source": [
        "l=[]\n",
        "for x in \"acadgild\":\n",
        "  l.append(x.upper())\n",
        "l"
      ],
      "execution_count": null,
      "outputs": [
        {
          "output_type": "execute_result",
          "data": {
            "text/plain": [
              "['A', 'C', 'A', 'D', 'G', 'I', 'L', 'D']"
            ]
          },
          "metadata": {
            "tags": []
          },
          "execution_count": 15
        }
      ]
    },
    {
      "cell_type": "markdown",
      "metadata": {
        "id": "9l-nG2y4HzGJ"
      },
      "source": [
        "['x', 'xx', 'xxx', 'xxxx', 'y', 'yy', 'yyy', 'yyyy', 'z', 'zz', 'zzz', 'zzzz'] "
      ]
    },
    {
      "cell_type": "code",
      "metadata": {
        "colab": {
          "base_uri": "https://localhost:8080/"
        },
        "id": "e6ES7fEqzx_V",
        "outputId": "6e5764a7-bc68-4fa3-9442-92e6cf6d759b"
      },
      "source": [
        "s1=\"xyz\"\n",
        "l1=[]\n",
        "for i in s1:\n",
        "  for y in range(1,5):\n",
        "    l1.append(y*i)\n",
        "l1"
      ],
      "execution_count": null,
      "outputs": [
        {
          "output_type": "execute_result",
          "data": {
            "text/plain": [
              "['x', 'xx', 'xxx', 'xxxx', 'y', 'yy', 'yyy', 'yyyy', 'z', 'zz', 'zzz', 'zzzz']"
            ]
          },
          "metadata": {
            "tags": []
          },
          "execution_count": 17
        }
      ]
    },
    {
      "cell_type": "markdown",
      "metadata": {
        "id": "MelqHKXaH65C"
      },
      "source": [
        "['x', 'y', 'z', 'xx', 'yy', 'zz', 'xxx', 'yyy', 'zzz', 'xxxx', 'yyyy', 'zzzz'] "
      ]
    },
    {
      "cell_type": "code",
      "metadata": {
        "colab": {
          "base_uri": "https://localhost:8080/"
        },
        "id": "vbASMkyI3hH9",
        "outputId": "b05529f4-1c96-472f-8c85-fdc9d8babafa"
      },
      "source": [
        "s2=\"xyz\"\n",
        "l2=[]\n",
        "for i in range(1,5):\n",
        "  for y in s2:\n",
        "    l2.append(y*i)\n",
        "l2"
      ],
      "execution_count": null,
      "outputs": [
        {
          "output_type": "execute_result",
          "data": {
            "text/plain": [
              "['x', 'y', 'z', 'xx', 'yy', 'zz', 'xxx', 'yyy', 'zzz', 'xxxx', 'yyyy', 'zzzz']"
            ]
          },
          "metadata": {
            "tags": []
          },
          "execution_count": 18
        }
      ]
    },
    {
      "cell_type": "markdown",
      "metadata": {
        "id": "5P0-xgYrHmGv"
      },
      "source": [
        "[[2], [3], [4], [3], [4], [5], [4], [5], [6]]"
      ]
    },
    {
      "cell_type": "code",
      "metadata": {
        "colab": {
          "base_uri": "https://localhost:8080/"
        },
        "id": "WbcTO46f4Jpz",
        "outputId": "4a13c300-1cdf-486f-82a0-eb2e9ca756e2"
      },
      "source": [
        "l2=[]\n",
        "for i in range(2,5):\n",
        "  for y in range(i,i+3):\n",
        "    l2.append([y])\n",
        "l2"
      ],
      "execution_count": null,
      "outputs": [
        {
          "output_type": "execute_result",
          "data": {
            "text/plain": [
              "[[2], [3], [4], [3], [4], [5], [4], [5], [6]]"
            ]
          },
          "metadata": {
            "tags": []
          },
          "execution_count": 22
        }
      ]
    },
    {
      "cell_type": "markdown",
      "metadata": {
        "id": "yYxQC2R6Hi43"
      },
      "source": [
        "[[2, 3, 4, 5], [3, 4, 5, 6], [4, 5, 6, 7], [5, 6, 7, 8]]"
      ]
    },
    {
      "cell_type": "code",
      "metadata": {
        "colab": {
          "base_uri": "https://localhost:8080/"
        },
        "id": "p5g7yCSH4-zo",
        "outputId": "b5556de8-487c-402a-e6f9-f1ca273f9a91"
      },
      "source": [
        "l4=[]\n",
        "for i in range(2,6):\n",
        "  l3=[]\n",
        "  for y in range(i,i+4):\n",
        "    l3.append(y)\n",
        "  l4.append(l3)\n",
        "l4\n"
      ],
      "execution_count": null,
      "outputs": [
        {
          "output_type": "execute_result",
          "data": {
            "text/plain": [
              "[[2, 3, 4, 5], [3, 4, 5, 6], [4, 5, 6, 7], [5, 6, 7, 8]]"
            ]
          },
          "metadata": {
            "tags": []
          },
          "execution_count": 48
        }
      ]
    },
    {
      "cell_type": "markdown",
      "metadata": {
        "id": "Qwvh1jxSG257"
      },
      "source": [
        "[(1, 1), (2, 1), (3, 1), (1, 2), (2, 2), (3, 2), (1, 3), (2, 3), (3, 3)]\n"
      ]
    },
    {
      "cell_type": "code",
      "metadata": {
        "colab": {
          "base_uri": "https://localhost:8080/"
        },
        "id": "EdgIDQVmG3rb",
        "outputId": "dc55500b-a875-457b-ec0c-3996ec6da2d9"
      },
      "source": [
        "l5=[]\n",
        "for i in range(1,4):\n",
        "  for y in range(1,4):\n",
        "    l5.append((y,i))\n",
        "l5"
      ],
      "execution_count": null,
      "outputs": [
        {
          "output_type": "execute_result",
          "data": {
            "text/plain": [
              "[(1, 1), (2, 1), (3, 1), (1, 2), (2, 2), (3, 2), (1, 3), (2, 3), (3, 3)]"
            ]
          },
          "metadata": {
            "tags": []
          },
          "execution_count": 49
        }
      ]
    }
  ]
}